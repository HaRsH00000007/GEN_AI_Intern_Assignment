{
  "nbformat": 4,
  "nbformat_minor": 0,
  "metadata": {
    "colab": {
      "provenance": []
    },
    "kernelspec": {
      "name": "python3",
      "display_name": "Python 3"
    },
    "language_info": {
      "name": "python"
    }
  },
  "cells": [
    {
      "cell_type": "markdown",
      "source": [
        "# **Assignment - Python Basics Practice**"
      ],
      "metadata": {
        "id": "OBYrTpuseLES"
      }
    },
    {
      "cell_type": "markdown",
      "source": [
        "# **Variable and Datatypes**"
      ],
      "metadata": {
        "id": "njafVKqSek45"
      }
    },
    {
      "cell_type": "markdown",
      "source": [
        "Q1 : Assign your name to the variable name."
      ],
      "metadata": {
        "id": "4Fh2uEmxgKHb"
      }
    },
    {
      "cell_type": "code",
      "source": [
        "name = \"Harsh Singh\"\n",
        "print (name)"
      ],
      "metadata": {
        "colab": {
          "base_uri": "https://localhost:8080/"
        },
        "id": "BdbA95svevsV",
        "outputId": "07dd760e-dcc5-4af9-ba12-bd280e41cb35"
      },
      "execution_count": 1,
      "outputs": [
        {
          "output_type": "stream",
          "name": "stdout",
          "text": [
            "Harsh Singh\n"
          ]
        }
      ]
    },
    {
      "cell_type": "markdown",
      "source": [
        "Q2 : Assign your age (real or fake) to the variable age."
      ],
      "metadata": {
        "id": "m1GJbsURgRrq"
      }
    },
    {
      "cell_type": "code",
      "source": [
        "age = 21\n",
        "print(age)"
      ],
      "metadata": {
        "colab": {
          "base_uri": "https://localhost:8080/"
        },
        "id": "UFb-h1HHevl9",
        "outputId": "7ab15221-cd64-48ce-c7b4-38af7e30df7d"
      },
      "execution_count": 3,
      "outputs": [
        {
          "output_type": "stream",
          "name": "stdout",
          "text": [
            "21\n"
          ]
        }
      ]
    },
    {
      "cell_type": "markdown",
      "source": [
        "Q3 : Assign a boolean value to the variable has_android_phone."
      ],
      "metadata": {
        "id": "6ei2N6EVgWju"
      }
    },
    {
      "cell_type": "code",
      "source": [
        "has_android_phone = True  # I set this one to True Because I have andriod phone\n",
        "has_android_phone"
      ],
      "metadata": {
        "colab": {
          "base_uri": "https://localhost:8080/"
        },
        "id": "9QfHS-KSevfi",
        "outputId": "33df59e3-0ab2-4ecf-c428-6963d5c45e95"
      },
      "execution_count": 4,
      "outputs": [
        {
          "output_type": "execute_result",
          "data": {
            "text/plain": [
              "True"
            ]
          },
          "metadata": {},
          "execution_count": 4
        }
      ]
    },
    {
      "cell_type": "markdown",
      "source": [
        "Q4 : Create a dictionary person with keys \"Name\", \"Age\", \"HasAndroidPhone\" and values using the variables defined above."
      ],
      "metadata": {
        "id": "MBak1LUSf_sK"
      }
    },
    {
      "cell_type": "code",
      "source": [
        "person = {\n",
        "    \"Name\": name,\n",
        "    \"Age\": age,\n",
        "    \"HasAndroidPhone\": has_android_phone\n",
        "}\n",
        "person"
      ],
      "metadata": {
        "colab": {
          "base_uri": "https://localhost:8080/"
        },
        "id": "hNCJHwcoevdz",
        "outputId": "e6fa570b-f9e4-4dc8-d46d-94b63b96fcfc"
      },
      "execution_count": 6,
      "outputs": [
        {
          "output_type": "execute_result",
          "data": {
            "text/plain": [
              "{'Name': 'Harsh Singh', 'Age': 21, 'HasAndroidPhone': True}"
            ]
          },
          "metadata": {},
          "execution_count": 6
        }
      ]
    },
    {
      "cell_type": "markdown",
      "source": [
        "Q5 :Let's use the person dictionary to print a nice message."
      ],
      "metadata": {
        "id": "elaBSMcYhcno"
      }
    },
    {
      "cell_type": "code",
      "source": [
        "message = f\"Hello, There my name is {person['Name']}. I am {person['Age']} years old and {'do' if person['HasAndroidPhone'] else 'do not'} have an Android phone and I enjoy my work in this internship.\"\n",
        "print(message)\n"
      ],
      "metadata": {
        "colab": {
          "base_uri": "https://localhost:8080/"
        },
        "id": "q4O-7nEqevbb",
        "outputId": "c77d07f3-2e26-4569-ef6b-3ebc07b8b18c"
      },
      "execution_count": 8,
      "outputs": [
        {
          "output_type": "stream",
          "name": "stdout",
          "text": [
            "Hello, There my name is Harsh Singh. I am 21 years old and do have an Android phone and I enjoy my work in this internship.\n"
          ]
        }
      ]
    },
    {
      "cell_type": "markdown",
      "source": [
        "Q6 :Use a for loop to display the type of each value stored against each key in person.**\n",
        "\n",
        "Here's the expected output for the key \"Name\":"
      ],
      "metadata": {
        "id": "dgYkBpdIiJ6l"
      }
    },
    {
      "cell_type": "code",
      "source": [
        "for key, value in person.items():\n",
        "    print(f'The key \"{key}\" has the value \"{value}\" whose type is \"{type(value)}\"')\n"
      ],
      "metadata": {
        "colab": {
          "base_uri": "https://localhost:8080/"
        },
        "id": "60mauF4uevZP",
        "outputId": "b697d380-e2e9-423e-9d29-716328e85b86"
      },
      "execution_count": 10,
      "outputs": [
        {
          "output_type": "stream",
          "name": "stdout",
          "text": [
            "The key \"Name\" has the value \"Harsh Singh\" whose type is \"<class 'str'>\"\n",
            "The key \"Age\" has the value \"21\" whose type is \"<class 'int'>\"\n",
            "The key \"HasAndroidPhone\" has the value \"True\" whose type is \"<class 'bool'>\"\n"
          ]
        }
      ]
    },
    {
      "cell_type": "markdown",
      "source": [
        "# **Working with Lists**"
      ],
      "metadata": {
        "id": "3FP2cYKhidre"
      }
    },
    {
      "cell_type": "markdown",
      "source": [
        "Q1 : Create a list containing the following 3 elements:\n",
        "\n",
        "(a) your favorite color\n",
        "\n",
        "(b) the number of pets you have\n",
        "\n",
        "\n",
        "(c) a boolean value describing whether you have previous programming experience"
      ],
      "metadata": {
        "id": "2ESnfuXtilR7"
      }
    },
    {
      "cell_type": "code",
      "source": [
        "favorite_color = \"Black\"\n",
        "number_of_pets = 0\n",
        "programming_experience = True\n",
        "\n",
        "my_list = [favorite_color, number_of_pets, programming_experience]\n",
        "\n"
      ],
      "metadata": {
        "id": "prr3vw-KevVF"
      },
      "execution_count": 32,
      "outputs": []
    },
    {
      "cell_type": "markdown",
      "source": [
        "Q2 :Let's see what the list looks like:"
      ],
      "metadata": {
        "id": "IBIhUlhGjZnW"
      }
    },
    {
      "cell_type": "code",
      "source": [
        "print(my_list)"
      ],
      "metadata": {
        "colab": {
          "base_uri": "https://localhost:8080/"
        },
        "id": "cwOiN6lQevSk",
        "outputId": "5e2af06c-4e1b-4ea8-fede-1aa86c7dbf47"
      },
      "execution_count": 33,
      "outputs": [
        {
          "output_type": "stream",
          "name": "stdout",
          "text": [
            "['Black', 0, True]\n"
          ]
        }
      ]
    },
    {
      "cell_type": "markdown",
      "source": [
        "Q3 : Complete the following print and if statements by accessing the appropriate elements from my_list.\n",
        "\n",
        "Hint: Use the list indexing notation [ ]."
      ],
      "metadata": {
        "id": "MIXKLWMOjgy2"
      }
    },
    {
      "cell_type": "code",
      "source": [
        "print('My favorite color is', my_list[0])"
      ],
      "metadata": {
        "colab": {
          "base_uri": "https://localhost:8080/"
        },
        "id": "SD-bxwagevNO",
        "outputId": "aebfe2fe-17b3-4ad5-aa83-cca30e315824"
      },
      "execution_count": 34,
      "outputs": [
        {
          "output_type": "stream",
          "name": "stdout",
          "text": [
            "My favorite color is Black\n"
          ]
        }
      ]
    },
    {
      "cell_type": "code",
      "source": [
        "print('I have {} pet(s).'.format(my_list[1])) # .format is used for proper formatting and clarity of the output"
      ],
      "metadata": {
        "colab": {
          "base_uri": "https://localhost:8080/"
        },
        "id": "CPpeeAT7evKG",
        "outputId": "49a36ccc-060f-460a-9d86-79b30b7a2f9b"
      },
      "execution_count": 35,
      "outputs": [
        {
          "output_type": "stream",
          "name": "stdout",
          "text": [
            "I have 0 pet(s).\n"
          ]
        }
      ]
    },
    {
      "cell_type": "code",
      "source": [
        "if my_list[2]:\n",
        "    print(\"I have previous programming experience\")\n",
        "else:\n",
        "    print(\"I do not have previous programming experience\")"
      ],
      "metadata": {
        "colab": {
          "base_uri": "https://localhost:8080/"
        },
        "id": "dqihRZ6GkcuW",
        "outputId": "71cba0e6-d660-4aa5-d43a-70894a971b05"
      },
      "execution_count": 36,
      "outputs": [
        {
          "output_type": "stream",
          "name": "stdout",
          "text": [
            "I have previous programming experience\n"
          ]
        }
      ]
    },
    {
      "cell_type": "markdown",
      "source": [
        "Q4 : Add your favorite single digit number to the end of the list using the appropriate list method."
      ],
      "metadata": {
        "id": "tDYU3XIUljmp"
      }
    },
    {
      "cell_type": "code",
      "source": [
        "my_favorite_number = 6  # Replace with your favorite single-digit number\n",
        "my_list.append(my_favorite_number)\n"
      ],
      "metadata": {
        "id": "VU-XuAOYl6BP"
      },
      "execution_count": 37,
      "outputs": []
    },
    {
      "cell_type": "markdown",
      "source": [
        "Let's see if the number shows up in the list."
      ],
      "metadata": {
        "id": "ivsWuGQolqSd"
      }
    },
    {
      "cell_type": "code",
      "source": [
        "print(my_list)"
      ],
      "metadata": {
        "colab": {
          "base_uri": "https://localhost:8080/"
        },
        "id": "DDopX6aKmKTP",
        "outputId": "b8981ceb-208a-4237-b942-c579a43c3102"
      },
      "execution_count": 38,
      "outputs": [
        {
          "output_type": "stream",
          "name": "stdout",
          "text": [
            "['Black', 0, True, 6]\n"
          ]
        }
      ]
    },
    {
      "cell_type": "markdown",
      "source": [
        "Q5 : Remove the first element of the list, using the appropriate list method.\n",
        "\n",
        "Hint: Check out methods of list here: https://www.w3schools.com/python/python_ref_list.asp"
      ],
      "metadata": {
        "id": "3MGhbDs8lv9e"
      }
    },
    {
      "cell_type": "code",
      "source": [
        "my_list.pop(0)\n",
        "print(my_list)\n",
        "# We can See Black is removced"
      ],
      "metadata": {
        "colab": {
          "base_uri": "https://localhost:8080/"
        },
        "id": "Vuh1ksQWmNbf",
        "outputId": "7de0dad4-d342-447e-9033-3e201c46dec0"
      },
      "execution_count": 39,
      "outputs": [
        {
          "output_type": "stream",
          "name": "stdout",
          "text": [
            "[0, True, 6]\n"
          ]
        }
      ]
    },
    {
      "cell_type": "markdown",
      "source": [
        "Q6 : Complete the print statement below to display the number of elements in my_list."
      ],
      "metadata": {
        "id": "tqFoAVcOl2GG"
      }
    },
    {
      "cell_type": "code",
      "source": [
        "print(\"The number of elements in List is:\", len(my_list))\n"
      ],
      "metadata": {
        "colab": {
          "base_uri": "https://localhost:8080/"
        },
        "id": "CiXM1cpblVon",
        "outputId": "cd7997d0-63e3-4480-c972-2f0dcd8410a0"
      },
      "execution_count": 40,
      "outputs": [
        {
          "output_type": "stream",
          "name": "stdout",
          "text": [
            "The number of elements in List is: 3\n"
          ]
        }
      ]
    },
    {
      "cell_type": "markdown",
      "source": [
        "# **Conditions and loops**"
      ],
      "metadata": {
        "id": "e0EYKIK9m2cY"
      }
    },
    {
      "cell_type": "markdown",
      "source": [
        "Q : Calculate and display the sum of all the numbers divisible by 7 between 18 and 534 i.e. 21+28+35+...+525+532.\n",
        "\n",
        "Hint: One way to do this is to loop over a range using for and use an if statement inside it."
      ],
      "metadata": {
        "id": "_4chameSnEVm"
      }
    },
    {
      "cell_type": "code",
      "source": [
        "sum_of_numbers = sum(num for num in range(18, 535)\n",
        "                              if num % 7 == 0)\n"
      ],
      "metadata": {
        "id": "ZqJr9UyenFRh"
      },
      "execution_count": 25,
      "outputs": []
    },
    {
      "cell_type": "code",
      "source": [
        "print('The sum of all the numbers divisible by 7 between 18 and 534 is', sum_of_numbers)"
      ],
      "metadata": {
        "colab": {
          "base_uri": "https://localhost:8080/"
        },
        "id": "CbmPwVlTnh6Y",
        "outputId": "44e3a2bd-30f5-4738-a312-2f70968a814f"
      },
      "execution_count": 26,
      "outputs": [
        {
          "output_type": "stream",
          "name": "stdout",
          "text": [
            "The sum of all the numbers divisible by 7 between 18 and 534 is 20461\n"
          ]
        }
      ]
    },
    {
      "cell_type": "markdown",
      "source": [
        "# Lists"
      ],
      "metadata": {
        "id": "Y_K46Wndo7n_"
      }
    },
    {
      "cell_type": "markdown",
      "source": [
        "Q1: Write a Python program that takes a list of integers as input and performs the following operations:\n",
        "\n",
        "Remove all duplicates from the list.\n",
        "\n",
        "Sort the list in descending order.\n",
        "\n",
        "Print the second largest number from the list."
      ],
      "metadata": {
        "id": "wTWDoP9hpK-o"
      }
    },
    {
      "cell_type": "code",
      "source": [
        "del list  # Resetting 'list' back to the built-in type to prevent overriding\n"
      ],
      "metadata": {
        "id": "EQmlqF-CqN_A"
      },
      "execution_count": 42,
      "outputs": []
    },
    {
      "cell_type": "code",
      "source": [
        "# Creating a function process_list for performing the above operations\n",
        "\n",
        "def process_list(input_list):\n",
        "\n",
        "    # Step 1\n",
        "    unique_list = list(set(input_list))\n",
        "\n",
        "    # Step 2\n",
        "    unique_list.sort(reverse=True)\n",
        "\n",
        "    # Step 3\n",
        "    if len(unique_list) > 1:\n",
        "        print(\"The second largest number is:\", unique_list[1])\n",
        "    else:\n",
        "        print(\"The list does not have enough unique elements to determine a second largest number.\")\n",
        "\n",
        "input_list = [10, 20, 4, 45, 99, 45, 20]\n",
        "process_list(input_list)\n"
      ],
      "metadata": {
        "colab": {
          "base_uri": "https://localhost:8080/"
        },
        "id": "au_5_-YsrtoZ",
        "outputId": "1444086f-a311-44be-aecd-4e4b143b0442"
      },
      "execution_count": 45,
      "outputs": [
        {
          "output_type": "stream",
          "name": "stdout",
          "text": [
            "The second largest number is: 45\n"
          ]
        }
      ]
    },
    {
      "cell_type": "markdown",
      "source": [
        "# Dictionary"
      ],
      "metadata": {
        "id": "L1Ylfb2juuJw"
      }
    },
    {
      "cell_type": "markdown",
      "source": [
        "Q2: Create a dictionary from two lists, one containing student names and the other containing their scores. Then, write a program to:\n",
        "\n",
        "Print the dictionary.\n",
        "\n",
        "Find the student with the highest score.\n",
        "\n",
        "Add a new student with a given score to the dictionary."
      ],
      "metadata": {
        "id": "N51DCPugu1Th"
      }
    },
    {
      "cell_type": "code",
      "source": [
        "student_names = [\"Alice\", \"Bob\", \"Charlie\", \"Diana\"]\n",
        "student_scores = [85, 92, 78, 95]"
      ],
      "metadata": {
        "id": "9AtteXAbvBG5"
      },
      "execution_count": 46,
      "outputs": []
    },
    {
      "cell_type": "code",
      "source": [
        "# Printing the dictionary\n",
        "student_dict = dict(zip(student_names, student_scores)) # zip function combines two lists\n",
        "print(\"Student Dictionary:\", student_dict)"
      ],
      "metadata": {
        "colab": {
          "base_uri": "https://localhost:8080/"
        },
        "id": "5cKGL8DGvKIx",
        "outputId": "51f6d38c-e961-4db7-9d3d-f25fe5039c0e"
      },
      "execution_count": 48,
      "outputs": [
        {
          "output_type": "stream",
          "name": "stdout",
          "text": [
            "Student Dictionary: {'Alice': 85, 'Bob': 92, 'Charlie': 78, 'Diana': 95}\n"
          ]
        }
      ]
    },
    {
      "cell_type": "code",
      "source": [
        "# Student with the highest score\n",
        "highest_score_student = max(student_dict, key=student_dict.get)\n",
        "highest_score = student_dict[highest_score_student]\n",
        "print(\"Student with the highest score:\", highest_score_student, \"with a score of\", highest_score)"
      ],
      "metadata": {
        "colab": {
          "base_uri": "https://localhost:8080/"
        },
        "id": "nJ0yLT--vKC4",
        "outputId": "f0657a09-e411-4fc4-e839-ef6c8435afee"
      },
      "execution_count": 50,
      "outputs": [
        {
          "output_type": "stream",
          "name": "stdout",
          "text": [
            "Student with the highest score: Diana with a score of 95\n"
          ]
        }
      ]
    },
    {
      "cell_type": "code",
      "source": [
        "# Adding a new student with a given score\n",
        "new_student_name = \"Rohandi baba\"\n",
        "new_student_score = 56\n",
        "\n",
        "student_dict[new_student_name] = new_student_score\n",
        "\n",
        "print(\"Updated Student Dictionary:\", student_dict)"
      ],
      "metadata": {
        "colab": {
          "base_uri": "https://localhost:8080/"
        },
        "id": "e9FKv2ncvJ5Z",
        "outputId": "6ccbf8ec-3d21-4d23-a267-faa184454d39"
      },
      "execution_count": 52,
      "outputs": [
        {
          "output_type": "stream",
          "name": "stdout",
          "text": [
            "Updated Student Dictionary: {'Alice': 85, 'Bob': 92, 'Charlie': 78, 'Diana': 95, 'Eve': 88, 'Rohandi baba': 56}\n"
          ]
        }
      ]
    },
    {
      "cell_type": "markdown",
      "source": [
        "# Tuple"
      ],
      "metadata": {
        "id": "hrnf4EUCu6cp"
      }
    },
    {
      "cell_type": "markdown",
      "source": [
        "3: Write a Python program to create a tuple from a list of integers. Then:\n",
        "\n",
        "Find the minimum, maximum, and sum of the elements in the tuple.\n",
        "\n",
        "Convert the tuple into a string and print it."
      ],
      "metadata": {
        "id": "Kz3QdFoXwsVf"
      }
    },
    {
      "cell_type": "code",
      "source": [
        "integer_list = [10, 20, 30, 40, 50]\n",
        "integer_tuple = tuple(integer_list)"
      ],
      "metadata": {
        "id": "dgIIeYEUwrzQ"
      },
      "execution_count": 53,
      "outputs": []
    },
    {
      "cell_type": "code",
      "source": [
        "min_value = min(integer_tuple)\n",
        "max_value = max(integer_tuple)\n",
        "total_sum = sum(integer_tuple)\n",
        "\n",
        "\n",
        "print(\"Minimum:\", min_value)\n",
        "print(\"Maximum:\", max_value)\n",
        "print(\"Sum:\", total_sum)"
      ],
      "metadata": {
        "colab": {
          "base_uri": "https://localhost:8080/"
        },
        "id": "HKcyMwZhxasJ",
        "outputId": "39848534-d837-4e52-d4db-c1d5b0cb1d62"
      },
      "execution_count": 54,
      "outputs": [
        {
          "output_type": "stream",
          "name": "stdout",
          "text": [
            "Minimum: 10\n",
            "Maximum: 50\n",
            "Sum: 150\n"
          ]
        }
      ]
    },
    {
      "cell_type": "code",
      "source": [
        "tuple_as_string = str(integer_tuple)\n",
        "print(\"Tuple as string:\", tuple_as_string)"
      ],
      "metadata": {
        "colab": {
          "base_uri": "https://localhost:8080/"
        },
        "id": "uZzdKK8mxbQZ",
        "outputId": "68586cc4-d2d1-4924-9be0-77aede8cf6d1"
      },
      "execution_count": 55,
      "outputs": [
        {
          "output_type": "stream",
          "name": "stdout",
          "text": [
            "Tuple as string: (10, 20, 30, 40, 50)\n"
          ]
        }
      ]
    },
    {
      "cell_type": "markdown",
      "source": [
        "# Numpy"
      ],
      "metadata": {
        "id": "7ZhQ9bbXu-hI"
      }
    },
    {
      "cell_type": "markdown",
      "source": [
        "Q4: Using the NumPy library:\n",
        "\n",
        "Create a 3x3 matrix filled with random integers between 1 and 20.\n",
        "\n",
        "Replace all values greater than 10 with 0.\n",
        "\n",
        "Find the mean of the modified matrix."
      ],
      "metadata": {
        "id": "izUysT4nwvza"
      }
    },
    {
      "cell_type": "code",
      "source": [
        "import numpy as np"
      ],
      "metadata": {
        "id": "vM6QLhpwx4bG"
      },
      "execution_count": 56,
      "outputs": []
    },
    {
      "cell_type": "code",
      "source": [
        "matrix = np.random.randint(1, 21, size=(3, 3))"
      ],
      "metadata": {
        "id": "-zOM8ZfCx5kf"
      },
      "execution_count": 57,
      "outputs": []
    },
    {
      "cell_type": "code",
      "source": [
        "matrix[matrix > 10] = 0"
      ],
      "metadata": {
        "id": "N4f5hugbx5h6"
      },
      "execution_count": 58,
      "outputs": []
    },
    {
      "cell_type": "code",
      "source": [
        "mean_value = np.mean(matrix)"
      ],
      "metadata": {
        "id": "eGU8c67sx5aY"
      },
      "execution_count": 59,
      "outputs": []
    },
    {
      "cell_type": "code",
      "source": [
        "print(\"Original Matrix:\")\n",
        "print(matrix)\n",
        "print(\"Mean of the modified matrix:\", mean_value)"
      ],
      "metadata": {
        "colab": {
          "base_uri": "https://localhost:8080/"
        },
        "id": "0P__XgVtyDkZ",
        "outputId": "5416761d-40a9-450d-9c61-e3393185916c"
      },
      "execution_count": 60,
      "outputs": [
        {
          "output_type": "stream",
          "name": "stdout",
          "text": [
            "Original Matrix:\n",
            "[[0 0 2]\n",
            " [0 0 0]\n",
            " [0 7 0]]\n",
            "Mean of the modified matrix: 1.0\n"
          ]
        }
      ]
    },
    {
      "cell_type": "markdown",
      "source": [
        "# Pandas"
      ],
      "metadata": {
        "id": "US9tqpR6w4m6"
      }
    },
    {
      "cell_type": "markdown",
      "source": [
        "Q5: Using the Pandas library:\n",
        "\n",
        "Create a DataFrame from a dictionary where the keys are column names, and the values are lists representing data for each column.\n",
        "\n",
        "Add a new column to the DataFrame by calculating the difference between two existing columns.\n",
        "\n",
        "Drop any rows where the value in a specific column is less than 50."
      ],
      "metadata": {
        "id": "KrDJeWDQw8v3"
      }
    },
    {
      "cell_type": "code",
      "source": [
        "import pandas as pd"
      ],
      "metadata": {
        "id": "leBUNStKu3HL"
      },
      "execution_count": 61,
      "outputs": []
    },
    {
      "cell_type": "code",
      "source": [
        "data = {\n",
        "    'A': [100, 80, 60, 40],\n",
        "    'B': [50, 20, 30, 70]\n",
        "}\n",
        "\n",
        "df = pd.DataFrame(data)"
      ],
      "metadata": {
        "id": "F62YUfvlu3Eu"
      },
      "execution_count": 62,
      "outputs": []
    },
    {
      "cell_type": "code",
      "source": [
        "df['C'] = df['A'] - df['B']"
      ],
      "metadata": {
        "id": "0q-IxISxu3DB"
      },
      "execution_count": 63,
      "outputs": []
    },
    {
      "cell_type": "code",
      "source": [
        "df = df[df['C'] >= 50]"
      ],
      "metadata": {
        "id": "MmboFowXu3AI"
      },
      "execution_count": 64,
      "outputs": []
    },
    {
      "cell_type": "code",
      "source": [
        "print(df)"
      ],
      "metadata": {
        "colab": {
          "base_uri": "https://localhost:8080/"
        },
        "id": "sJk651gos3IQ",
        "outputId": "c4d50ab4-4ca1-4c6b-9ea1-14fe9d5ce7cb"
      },
      "execution_count": 65,
      "outputs": [
        {
          "output_type": "stream",
          "name": "stdout",
          "text": [
            "     A   B   C\n",
            "0  100  50  50\n",
            "1   80  20  60\n"
          ]
        }
      ]
    },
    {
      "cell_type": "markdown",
      "source": [
        "# Exception Handling"
      ],
      "metadata": {
        "id": "UgIGzf5wyt8y"
      }
    },
    {
      "cell_type": "markdown",
      "source": [
        "Q6: Write a Python program to perform division of two user-input numbers. Implement exception handling to:\n",
        "\n",
        "Catch the division by zero error.\n",
        "\n",
        "Catch invalid input type errors (e.g., if the user enters a string instead of a number).\n",
        "\n",
        "Ensure the program runs successfully even if an error occurs. (Hint: Add finally)"
      ],
      "metadata": {
        "id": "v3cDj4jzyybR"
      }
    },
    {
      "cell_type": "code",
      "source": [
        "def divide_numbers():\n",
        "    try:\n",
        "\n",
        "        num1 = float(input(\"Enter the first number: \"))\n",
        "        num2 = float(input(\"Enter the second number: \"))\n",
        "\n",
        "\n",
        "        result = num1 / num2\n",
        "        print(f\"The result of {num1} divided by {num2} is: {result}\")\n",
        "\n",
        "    except ZeroDivisionError:\n",
        "        print(\"Error: Division by zero is not allowed.\")\n",
        "\n",
        "    except ValueError:\n",
        "        print(\"Error: Invalid input. Please enter numeric values.\")\n",
        "\n",
        "    finally:\n",
        "        print(\"Execution completed.\")\n",
        "\n",
        "# Run the function\n",
        "divide_numbers()\n"
      ],
      "metadata": {
        "colab": {
          "base_uri": "https://localhost:8080/"
        },
        "id": "aC42iQ7Ly_VW",
        "outputId": "cbacca89-d775-448b-c344-c7f5359c7814"
      },
      "execution_count": 92,
      "outputs": [
        {
          "output_type": "stream",
          "name": "stdout",
          "text": [
            "Enter the first number: o\n",
            "Error: Invalid input. Please enter numeric values.\n",
            "Execution completed.\n"
          ]
        }
      ]
    },
    {
      "cell_type": "markdown",
      "source": [
        "# Matplotlib"
      ],
      "metadata": {
        "id": "JHvwU0vDy2A0"
      }
    },
    {
      "cell_type": "markdown",
      "source": [
        "Q7: Create a line chart using the Matplotlib library to display the population growth over years. The program should:\n",
        "\n",
        "Create dummy data: containing years and population values.\n",
        "\n",
        "Plot the line chart with proper labels for the x-axis, y-axis, and a title."
      ],
      "metadata": {
        "id": "z7vyZ85ay78j"
      }
    },
    {
      "cell_type": "code",
      "source": [
        "import matplotlib.pyplot as plt"
      ],
      "metadata": {
        "id": "twWnZjTVy9qU"
      },
      "execution_count": 67,
      "outputs": []
    },
    {
      "cell_type": "code",
      "source": [
        "years = [2000, 2001, 2002, 2003, 2004, 2005, 2006, 2007, 2008, 2009, 2010]\n",
        "population = [6.1, 6.2, 6.3, 6.5, 6.7, 6.9, 7.1, 7.3, 7.5, 7.7, 7.9]\n"
      ],
      "metadata": {
        "id": "UzwBIpivy9oL"
      },
      "execution_count": 68,
      "outputs": []
    },
    {
      "cell_type": "code",
      "source": [
        "plt.figure(figsize=(10, 6))\n",
        "plt.xlabel('Year')\n",
        "plt.ylabel('Population (in billions)')\n",
        "plt.title('Population Growth Over Years')\n",
        "plt.plot(years, population, marker='o')"
      ],
      "metadata": {
        "colab": {
          "base_uri": "https://localhost:8080/",
          "height": 582
        },
        "id": "LxnqgyXTy6IE",
        "outputId": "03a8d12c-5ecf-48ee-bdd6-7f1a5218bc15"
      },
      "execution_count": 78,
      "outputs": [
        {
          "output_type": "execute_result",
          "data": {
            "text/plain": [
              "[<matplotlib.lines.Line2D at 0x7d9d0de12bc0>]"
            ]
          },
          "metadata": {},
          "execution_count": 78
        },
        {
          "output_type": "display_data",
          "data": {
            "text/plain": [
              "<Figure size 1000x600 with 1 Axes>"
            ],
            "image/png": "[encoded data removed]"
          },
          "metadata": {}
        }
      ]
    },
    {
      "cell_type": "markdown",
      "source": [
        "# Seaborn"
      ],
      "metadata": {
        "id": "S6Zt4SJbzChz"
      }
    },
    {
      "cell_type": "markdown",
      "source": [
        "Q8: Using the Seaborn library, plot a distribution of the sepal_length column from the Iris dataset. The program should:\n",
        "\n",
        "Load the 'iris' dataset from Seaborn's sample datasets. Plot a KDE (Kernel Density Estimation) plot for the sepal_length column. Customize the plot with a title and set the color of the plot to blue."
      ],
      "metadata": {
        "id": "6-iQHYVqzFdL"
      }
    },
    {
      "cell_type": "code",
      "source": [
        "import seaborn as sns\n",
        "import matplotlib.pyplot as plt"
      ],
      "metadata": {
        "id": "WSK8rzA1zDSs"
      },
      "execution_count": 79,
      "outputs": []
    },
    {
      "cell_type": "code",
      "source": [
        "iris = sns.load_dataset('iris')"
      ],
      "metadata": {
        "id": "NgTLq0x-zIKo"
      },
      "execution_count": 80,
      "outputs": []
    },
    {
      "cell_type": "code",
      "source": [
        "plt.figure(figsize=(10, 6))\n",
        "sns.kdeplot(data=iris, x='sepal_length', color='blue')"
      ],
      "metadata": {
        "colab": {
          "base_uri": "https://localhost:8080/",
          "height": 560
        },
        "id": "ZTsBap_yzIGR",
        "outputId": "fa726115-e560-4115-a3b6-9bc7d1f84747"
      },
      "execution_count": 81,
      "outputs": [
        {
          "output_type": "execute_result",
          "data": {
            "text/plain": [
              "<Axes: xlabel='sepal_length', ylabel='Density'>"
            ]
          },
          "metadata": {},
          "execution_count": 81
        },
        {
          "output_type": "display_data",
          "data": {
            "text/plain": [
              "<Figure size 1000x600 with 1 Axes>"
            ],
            "image/png": "[encoded data removed]"
          },
          "metadata": {}
        }
      ]
    },
    {
      "cell_type": "code",
      "source": [
        "plt.title('KDE Plot of Sepal Length from the Iris Dataset')\n",
        "plt.xlabel('Sepal Length')\n",
        "plt.ylabel('Density')\n",
        "sns.kdeplot(data=iris, x='sepal_length', color='blue')"
      ],
      "metadata": {
        "colab": {
          "base_uri": "https://localhost:8080/",
          "height": 490
        },
        "id": "Hira8VmmzIDr",
        "outputId": "2f0eeed7-b9fd-4273-9d8a-d4e9af710d90"
      },
      "execution_count": 83,
      "outputs": [
        {
          "output_type": "execute_result",
          "data": {
            "text/plain": [
              "<Axes: title={'center': 'KDE Plot of Sepal Length from the Iris Dataset'}, xlabel='Sepal Length', ylabel='Density'>"
            ]
          },
          "metadata": {},
          "execution_count": 83
        },
        {
          "output_type": "display_data",
          "data": {
            "text/plain": [
              "<Figure size 640x480 with 1 Axes>"
            ],
            "image/png": "[encoded data removed]"
          },
          "metadata": {}
        }
      ]
    },
    {
      "cell_type": "markdown",
      "source": [
        "# Pandas DataFrame"
      ],
      "metadata": {
        "id": "O4sS-Gb1zIjo"
      }
    },
    {
      "cell_type": "markdown",
      "source": [
        "Q9: Write a Python program to perform the following operations on the Iris dataset:\n",
        "\n",
        "Load the dataset into a Pandas DataFrame.\n",
        "\n",
        "Display the first 10 rows of the DataFrame.\n",
        "\n",
        "Group the data by the species column and calculate the mean of each numeric column for each species.\n",
        "\n",
        "Add a new column sepal_area that is the product of sepal_length and sepal_width.\n",
        "\n",
        "Filter the DataFrame to show only rows where sepal_area is greater than 20."
      ],
      "metadata": {
        "id": "iSj0RbCQzLtQ"
      }
    },
    {
      "cell_type": "code",
      "source": [
        "import pandas as pd\n",
        "import seaborn as sns"
      ],
      "metadata": {
        "id": "8Xp4ZtrhzJiD"
      },
      "execution_count": 84,
      "outputs": []
    },
    {
      "cell_type": "code",
      "source": [
        "iris = sns.load_dataset('iris')\n"
      ],
      "metadata": {
        "id": "-vuo0EcezOzg"
      },
      "execution_count": 85,
      "outputs": []
    },
    {
      "cell_type": "code",
      "source": [
        "print(iris.head(10))"
      ],
      "metadata": {
        "colab": {
          "base_uri": "https://localhost:8080/"
        },
        "id": "iUP-iLoWzOxD",
        "outputId": "41fd4605-e303-4729-fa85-4953c75ac010"
      },
      "execution_count": 86,
      "outputs": [
        {
          "output_type": "stream",
          "name": "stdout",
          "text": [
            "   sepal_length  sepal_width  petal_length  petal_width species\n",
            "0           5.1          3.5           1.4          0.2  setosa\n",
            "1           4.9          3.0           1.4          0.2  setosa\n",
            "2           4.7          3.2           1.3          0.2  setosa\n",
            "3           4.6          3.1           1.5          0.2  setosa\n",
            "4           5.0          3.6           1.4          0.2  setosa\n",
            "5           5.4          3.9           1.7          0.4  setosa\n",
            "6           4.6          3.4           1.4          0.3  setosa\n",
            "7           5.0          3.4           1.5          0.2  setosa\n",
            "8           4.4          2.9           1.4          0.2  setosa\n",
            "9           4.9          3.1           1.5          0.1  setosa\n"
          ]
        }
      ]
    },
    {
      "cell_type": "code",
      "source": [
        "mean_by_species = iris.groupby('species').mean()\n",
        "print(\"\\nMean of each numeric column for each species:\")\n",
        "print(mean_by_species)"
      ],
      "metadata": {
        "colab": {
          "base_uri": "https://localhost:8080/"
        },
        "id": "1SEYVk_jzOsi",
        "outputId": "b87b3893-465c-47b8-bf22-dab221d7a9c0"
      },
      "execution_count": 87,
      "outputs": [
        {
          "output_type": "stream",
          "name": "stdout",
          "text": [
            "\n",
            "Mean of each numeric column for each species:\n",
            "            sepal_length  sepal_width  petal_length  petal_width\n",
            "species                                                         \n",
            "setosa             5.006        3.428         1.462        0.246\n",
            "versicolor         5.936        2.770         4.260        1.326\n",
            "virginica          6.588        2.974         5.552        2.026\n"
          ]
        }
      ]
    },
    {
      "cell_type": "code",
      "source": [
        "iris['sepal_area'] = iris['sepal_length'] * iris['sepal_width']"
      ],
      "metadata": {
        "id": "ZASUZhsuzOoS"
      },
      "execution_count": 88,
      "outputs": []
    },
    {
      "cell_type": "code",
      "source": [
        "filtered_df = iris[iris['sepal_area'] > 20]\n",
        "print(\"\\nFiltered DataFrame where sepal_area > 20:\")\n",
        "print(filtered_df)"
      ],
      "metadata": {
        "colab": {
          "base_uri": "https://localhost:8080/"
        },
        "id": "tEE8264g2Mm4",
        "outputId": "ae3e7f50-657c-429f-e825-f5fe51c89c55"
      },
      "execution_count": 89,
      "outputs": [
        {
          "output_type": "stream",
          "name": "stdout",
          "text": [
            "\n",
            "Filtered DataFrame where sepal_area > 20:\n",
            "     sepal_length  sepal_width  petal_length  petal_width     species  \\\n",
            "5             5.4          3.9           1.7          0.4      setosa   \n",
            "14            5.8          4.0           1.2          0.2      setosa   \n",
            "15            5.7          4.4           1.5          0.4      setosa   \n",
            "16            5.4          3.9           1.3          0.4      setosa   \n",
            "18            5.7          3.8           1.7          0.3      setosa   \n",
            "32            5.2          4.1           1.5          0.1      setosa   \n",
            "33            5.5          4.2           1.4          0.2      setosa   \n",
            "50            7.0          3.2           4.7          1.4  versicolor   \n",
            "51            6.4          3.2           4.5          1.5  versicolor   \n",
            "52            6.9          3.1           4.9          1.5  versicolor   \n",
            "56            6.3          3.3           4.7          1.6  versicolor   \n",
            "65            6.7          3.1           4.4          1.4  versicolor   \n",
            "77            6.7          3.0           5.0          1.7  versicolor   \n",
            "85            6.0          3.4           4.5          1.6  versicolor   \n",
            "86            6.7          3.1           4.7          1.5  versicolor   \n",
            "100           6.3          3.3           6.0          2.5   virginica   \n",
            "102           7.1          3.0           5.9          2.1   virginica   \n",
            "105           7.6          3.0           6.6          2.1   virginica   \n",
            "107           7.3          2.9           6.3          1.8   virginica   \n",
            "109           7.2          3.6           6.1          2.5   virginica   \n",
            "110           6.5          3.2           5.1          2.0   virginica   \n",
            "112           6.8          3.0           5.5          2.1   virginica   \n",
            "115           6.4          3.2           5.3          2.3   virginica   \n",
            "117           7.7          3.8           6.7          2.2   virginica   \n",
            "118           7.7          2.6           6.9          2.3   virginica   \n",
            "120           6.9          3.2           5.7          2.3   virginica   \n",
            "122           7.7          2.8           6.7          2.0   virginica   \n",
            "124           6.7          3.3           5.7          2.1   virginica   \n",
            "125           7.2          3.2           6.0          1.8   virginica   \n",
            "129           7.2          3.0           5.8          1.6   virginica   \n",
            "130           7.4          2.8           6.1          1.9   virginica   \n",
            "131           7.9          3.8           6.4          2.0   virginica   \n",
            "135           7.7          3.0           6.1          2.3   virginica   \n",
            "136           6.3          3.4           5.6          2.4   virginica   \n",
            "139           6.9          3.1           5.4          2.1   virginica   \n",
            "140           6.7          3.1           5.6          2.4   virginica   \n",
            "141           6.9          3.1           5.1          2.3   virginica   \n",
            "143           6.8          3.2           5.9          2.3   virginica   \n",
            "144           6.7          3.3           5.7          2.5   virginica   \n",
            "145           6.7          3.0           5.2          2.3   virginica   \n",
            "148           6.2          3.4           5.4          2.3   virginica   \n",
            "\n",
            "     sepal_area  \n",
            "5         21.06  \n",
            "14        23.20  \n",
            "15        25.08  \n",
            "16        21.06  \n",
            "18        21.66  \n",
            "32        21.32  \n",
            "33        23.10  \n",
            "50        22.40  \n",
            "51        20.48  \n",
            "52        21.39  \n",
            "56        20.79  \n",
            "65        20.77  \n",
            "77        20.10  \n",
            "85        20.40  \n",
            "86        20.77  \n",
            "100       20.79  \n",
            "102       21.30  \n",
            "105       22.80  \n",
            "107       21.17  \n",
            "109       25.92  \n",
            "110       20.80  \n",
            "112       20.40  \n",
            "115       20.48  \n",
            "117       29.26  \n",
            "118       20.02  \n",
            "120       22.08  \n",
            "122       21.56  \n",
            "124       22.11  \n",
            "125       23.04  \n",
            "129       21.60  \n",
            "130       20.72  \n",
            "131       30.02  \n",
            "135       23.10  \n",
            "136       21.42  \n",
            "139       21.39  \n",
            "140       20.77  \n",
            "141       21.39  \n",
            "143       21.76  \n",
            "144       22.11  \n",
            "145       20.10  \n",
            "148       21.08  \n"
          ]
        }
      ]
    },
    {
      "cell_type": "markdown",
      "source": [
        "# Functions"
      ],
      "metadata": {
        "id": "rBpz3dm6zPMq"
      }
    },
    {
      "cell_type": "markdown",
      "source": [
        "Q10: Write a Python program that defines a function to calculate the Body Mass Index (BMI) based on a person's weight and height. The program should:\n",
        "\n",
        "Define a function calculate_bmi(weight, height) that takes the weight (in kilograms) and height (in meters) as arguments and returns the BMI.\n",
        "\n",
        "BMI = weight/(height**2)\n",
        "\n",
        "Use the function to calculate the BMI for a given weight and height input by the user.\n",
        "\n",
        "Define another function bmi_category(bmi) that takes the BMI as input and returns the BMI category:\n",
        "\n",
        "\"Underweight\" if BMI < 18.5\n",
        "\n",
        "\"Normal weight\" if 18.5 <= BMI < 24.9\n",
        "\n",
        "\"Overweight\" if 25 <= BMI < 29.9\n",
        "\n",
        "\"Obese\" if BMI >= 30\n",
        "\n",
        "(Hint; use if elif else multiple conditions)\n",
        "\n",
        "Print the calculated BMI and the corresponding category."
      ],
      "metadata": {
        "id": "_oZHuQS6zSHC"
      }
    },
    {
      "cell_type": "code",
      "source": [
        "def calculate_bmi(weight, height):\n",
        "\n",
        "    bmi = weight / (height ** 2)\n",
        "    return bmi\n",
        "\n",
        "weight = float(input(\"Enter your weight in kilograms: \"))\n",
        "height = float(input(\"Enter your height in meters: \"))\n",
        "bmi = calculate_bmi(weight, height)\n",
        "print(f\"Your BMI is: {bmi:.2f}\")\n"
      ],
      "metadata": {
        "colab": {
          "base_uri": "https://localhost:8080/"
        },
        "id": "7yv4i74o7CZ8",
        "outputId": "b3deb4ca-2110-49bf-b889-5a7e16b4a166"
      },
      "execution_count": 97,
      "outputs": [
        {
          "output_type": "stream",
          "name": "stdout",
          "text": [
            "Enter your weight in kilograms: 90\n",
            "Enter your height in meters: 151\n",
            "Your BMI is: 0.00\n"
          ]
        }
      ]
    },
    {
      "cell_type": "code",
      "source": [
        "def bmi_category(bmi):\n",
        "\n",
        "    if bmi < 18.5:\n",
        "        return \"Underweight\"\n",
        "    elif 18.5 <= bmi < 24.9:\n",
        "        return \"Normal weight\"\n",
        "    elif 25 <= bmi < 29.9:\n",
        "        return \"Overweight\"\n",
        "    else:  # bmi >= 30\n",
        "        return \"Obese\"\n",
        "\n",
        "bmi = float(input(\"Enter your calculated BMI: \"))\n",
        "category = bmi_category(bmi)\n",
        "print(f\"You are classified as: {category}\")\n"
      ],
      "metadata": {
        "colab": {
          "base_uri": "https://localhost:8080/"
        },
        "id": "Po-BZx3l7RB0",
        "outputId": "a211c192-4cc0-456e-c45a-12d7c1026815"
      },
      "execution_count": 98,
      "outputs": [
        {
          "output_type": "stream",
          "name": "stdout",
          "text": [
            "Enter your calculated BMI: 0.00\n",
            "You are classified as: Underweight\n"
          ]
        }
      ]
    },
    {
      "cell_type": "code",
      "source": [
        "def calculate_bmi(weight, height):\n",
        "\n",
        "    bmi = weight / (height ** 2)\n",
        "    return bmi\n",
        "\n",
        "def bmi_category(bmi):\n",
        "\n",
        "    if bmi < 18.5:\n",
        "        return \"Underweight\"\n",
        "    elif 18.5 <= bmi < 24.9:\n",
        "        return \"Normal weight\"\n",
        "    elif 25 <= bmi < 29.9:\n",
        "        return \"Overweight\"\n",
        "    else:  # bmi >= 30\n",
        "        return \"Obese\"\n",
        "\n",
        "\n",
        "try:\n",
        "    weight = float(input(\"Enter your weight in kilograms: \"))\n",
        "    height = float(input(\"Enter your height in meters: \"))\n",
        "\n",
        "\n",
        "    bmi = calculate_bmi(weight, height)\n",
        "\n",
        "\n",
        "    category = bmi_category(bmi)\n",
        "\n",
        "\n",
        "    print(f\"Your BMI is: {bmi:.2f}\")\n",
        "    print(f\"You are classified as: {category}\")\n",
        "\n",
        "except ValueError:\n",
        "    print(\"Invalid input. Please enter numeric values for weight and height.\")\n",
        "except ZeroDivisionError:\n",
        "    print(\"Height cannot be zero. Please enter a valid height.\")\n"
      ],
      "metadata": {
        "colab": {
          "base_uri": "https://localhost:8080/"
        },
        "id": "7Aix4M7C7aTr",
        "outputId": "788e113c-6aac-4f95-f2b7-5bfd0008f20b"
      },
      "execution_count": 100,
      "outputs": [
        {
          "output_type": "stream",
          "name": "stdout",
          "text": [
            "Enter your weight in kilograms: 65\n",
            "Enter your height in meters: 172\n",
            "Your BMI is: 0.00\n",
            "You are classified as: Underweight\n"
          ]
        }
      ]
    },
    {
      "cell_type": "code",
      "source": [],
      "metadata": {
        "id": "8yuPSyuw7r96"
      },
      "execution_count": null,
      "outputs": []
    }
  ]
}